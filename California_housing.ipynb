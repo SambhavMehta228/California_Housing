{
 "cells": [
  {
   "cell_type": "code",
   "execution_count": 29,
   "metadata": {},
   "outputs": [],
   "source": [
    "import tensorflow as tf\n",
    "from tensorflow import keras\n",
    "import pandas as pd\n",
    "import matplotlib.pyplot as plt\n",
    "from sklearn.datasets import fetch_california_housing\n",
    "from sklearn.model_selection import train_test_split\n",
    "from sklearn.preprocessing import StandardScaler\n"
   ]
  },
  {
   "attachments": {},
   "cell_type": "markdown",
   "metadata": {},
   "source": [
    "Regression MLP Using Sequential API"
   ]
  },
  {
   "cell_type": "code",
   "execution_count": 30,
   "metadata": {},
   "outputs": [
    {
     "name": "stdout",
     "output_type": "stream",
     "text": [
      "(11610, 8) (11610,)\n"
     ]
    }
   ],
   "source": [
    "housing = fetch_california_housing()\n",
    "x_train_full,x_test,ytrain_full,y_test=train_test_split(housing.data,housing.target)\n",
    "x_train,x_valid,y_train,y_valid=train_test_split(x_train_full,ytrain_full ) #Validation Set\n",
    "print(x_train.shape , y_train.shape)\n"
   ]
  },
  {
   "cell_type": "code",
   "execution_count": 31,
   "metadata": {},
   "outputs": [],
   "source": [
    "scaler = StandardScaler()\n",
    "x_train_scaled = scaler.fit_transform(x_train)\n",
    "x_valid_scaled = scaler.transform(x_valid)\n",
    "x_test_scaled = scaler.transform(x_test)"
   ]
  },
  {
   "cell_type": "code",
   "execution_count": 32,
   "metadata": {},
   "outputs": [
    {
     "name": "stdout",
     "output_type": "stream",
     "text": [
      "Epoch 1/20\n"
     ]
    },
    {
     "name": "stdout",
     "output_type": "stream",
     "text": [
      "363/363 [==============================] - 2s 5ms/step - loss: 2449936228250375704051760234496.0000 - val_loss: 202674160965064729821184.0000\n",
      "Epoch 2/20\n",
      "363/363 [==============================] - 2s 5ms/step - loss: 14106527159520709312512.0000 - val_loss: 86482550939189248.0000\n",
      "Epoch 3/20\n",
      "363/363 [==============================] - 2s 5ms/step - loss: 6019370895540224.0000 - val_loss: 36902817792.0000\n",
      "Epoch 4/20\n",
      "363/363 [==============================] - 1s 4ms/step - loss: 2568514304.0000 - val_loss: 15748.0312\n",
      "Epoch 5/20\n",
      "363/363 [==============================] - 3s 7ms/step - loss: 1097.8447 - val_loss: 1.3080\n",
      "Epoch 6/20\n",
      "363/363 [==============================] - 2s 5ms/step - loss: 1.3338 - val_loss: 1.3009\n",
      "Epoch 7/20\n",
      "363/363 [==============================] - 2s 5ms/step - loss: 1.3333 - val_loss: 1.3016\n",
      "Epoch 8/20\n",
      "363/363 [==============================] - 1s 3ms/step - loss: 1.3330 - val_loss: 1.3033\n",
      "Epoch 9/20\n",
      "363/363 [==============================] - 1s 4ms/step - loss: 1.3334 - val_loss: 1.3005\n",
      "Epoch 10/20\n",
      "363/363 [==============================] - 2s 5ms/step - loss: 1.3336 - val_loss: 1.3010\n",
      "Epoch 11/20\n",
      "363/363 [==============================] - 2s 5ms/step - loss: 1.3331 - val_loss: 1.3005\n",
      "Epoch 12/20\n",
      "363/363 [==============================] - 1s 4ms/step - loss: 1.3335 - val_loss: 1.3009\n",
      "Epoch 13/20\n",
      "363/363 [==============================] - 1s 2ms/step - loss: 1.3334 - val_loss: 1.3008\n",
      "Epoch 14/20\n",
      "363/363 [==============================] - 1s 2ms/step - loss: 1.3334 - val_loss: 1.3009\n",
      "Epoch 15/20\n",
      "363/363 [==============================] - 1s 3ms/step - loss: 1.3333 - val_loss: 1.3005\n",
      "Epoch 16/20\n",
      "363/363 [==============================] - 1s 3ms/step - loss: 1.3331 - val_loss: 1.3007\n",
      "Epoch 17/20\n",
      "363/363 [==============================] - 1s 4ms/step - loss: 1.3334 - val_loss: 1.3008\n",
      "Epoch 18/20\n",
      "363/363 [==============================] - 1s 3ms/step - loss: 1.3333 - val_loss: 1.3006\n",
      "Epoch 19/20\n",
      "363/363 [==============================] - 1s 3ms/step - loss: 1.3334 - val_loss: 1.3006\n",
      "Epoch 20/20\n",
      "363/363 [==============================] - 1s 3ms/step - loss: 1.3334 - val_loss: 1.3006\n"
     ]
    }
   ],
   "source": [
    "model = keras.models.Sequential([\n",
    "keras.layers.Dense(30, activation=\"relu\", input_shape=x_train.shape[1:]),\n",
    "keras.layers.Dense(1)\n",
    "])\n",
    "model.compile(loss=\"mean_squared_error\",optimizer=\"sgd\")\n",
    "history=model.fit(x_train,y_train,epochs=20,validation_data=(x_valid,y_valid))"
   ]
  },
  {
   "cell_type": "code",
   "execution_count": 33,
   "metadata": {},
   "outputs": [
    {
     "name": "stdout",
     "output_type": "stream",
     "text": [
      "162/162 [==============================] - 0s 2ms/step - loss: 1.3519\n",
      "1.3519278764724731\n",
      "1/1 [==============================] - 0s 43ms/step\n",
      "[[2.0706263]\n",
      " [2.0706263]\n",
      " [2.0706263]]\n"
     ]
    }
   ],
   "source": [
    "mse_test=model.evaluate(x_test,y_test)\n",
    "print(mse_test)\n",
    "x_new=x_test[:3]\n",
    "y_pred=model.predict(x_new)\n",
    "print(y_pred)"
   ]
  },
  {
   "attachments": {},
   "cell_type": "markdown",
   "metadata": {},
   "source": [
    "Wide and Deep Neural Network to Solve California Housing Problem "
   ]
  },
  {
   "cell_type": "code",
   "execution_count": 34,
   "metadata": {},
   "outputs": [
    {
     "name": "stdout",
     "output_type": "stream",
     "text": [
      "<bound method Model.summary of <keras.engine.functional.Functional object at 0x7f241037afd0>>\n",
      "Epoch 1/30\n",
      "363/363 [==============================] - 2s 4ms/step - loss: nan - val_loss: nan\n",
      "Epoch 2/30\n",
      "363/363 [==============================] - 2s 5ms/step - loss: nan - val_loss: nan\n",
      "Epoch 3/30\n",
      "363/363 [==============================] - 1s 3ms/step - loss: nan - val_loss: nan\n",
      "Epoch 4/30\n",
      "363/363 [==============================] - 2s 5ms/step - loss: nan - val_loss: nan\n",
      "Epoch 5/30\n",
      "363/363 [==============================] - 2s 6ms/step - loss: nan - val_loss: nan\n",
      "Epoch 6/30\n",
      "363/363 [==============================] - 2s 4ms/step - loss: nan - val_loss: nan\n",
      "Epoch 7/30\n",
      "363/363 [==============================] - 1s 4ms/step - loss: nan - val_loss: nan\n",
      "Epoch 8/30\n",
      "363/363 [==============================] - 1s 3ms/step - loss: nan - val_loss: nan\n",
      "Epoch 9/30\n",
      "363/363 [==============================] - 1s 3ms/step - loss: nan - val_loss: nan\n",
      "Epoch 10/30\n",
      "363/363 [==============================] - 1s 3ms/step - loss: nan - val_loss: nan\n",
      "Epoch 11/30\n",
      "363/363 [==============================] - 1s 3ms/step - loss: nan - val_loss: nan\n",
      "Epoch 12/30\n",
      "363/363 [==============================] - 1s 3ms/step - loss: nan - val_loss: nan\n",
      "Epoch 13/30\n",
      "363/363 [==============================] - 1s 3ms/step - loss: nan - val_loss: nan\n",
      "Epoch 14/30\n",
      "363/363 [==============================] - 1s 2ms/step - loss: nan - val_loss: nan\n",
      "Epoch 15/30\n",
      "363/363 [==============================] - 1s 2ms/step - loss: nan - val_loss: nan\n",
      "Epoch 16/30\n",
      "363/363 [==============================] - 0s 1ms/step - loss: nan - val_loss: nan\n",
      "Epoch 17/30\n",
      "363/363 [==============================] - 0s 1ms/step - loss: nan - val_loss: nan\n",
      "Epoch 18/30\n",
      "363/363 [==============================] - 0s 1ms/step - loss: nan - val_loss: nan\n",
      "Epoch 19/30\n",
      "363/363 [==============================] - 0s 1ms/step - loss: nan - val_loss: nan\n",
      "Epoch 20/30\n",
      "363/363 [==============================] - 1s 2ms/step - loss: nan - val_loss: nan\n",
      "Epoch 21/30\n",
      "363/363 [==============================] - 1s 2ms/step - loss: nan - val_loss: nan\n",
      "Epoch 22/30\n",
      "363/363 [==============================] - 1s 2ms/step - loss: nan - val_loss: nan\n",
      "Epoch 23/30\n",
      "363/363 [==============================] - 1s 2ms/step - loss: nan - val_loss: nan\n",
      "Epoch 24/30\n",
      "363/363 [==============================] - 1s 1ms/step - loss: nan - val_loss: nan\n",
      "Epoch 25/30\n",
      "363/363 [==============================] - 1s 2ms/step - loss: nan - val_loss: nan\n",
      "Epoch 26/30\n",
      "363/363 [==============================] - 1s 2ms/step - loss: nan - val_loss: nan\n",
      "Epoch 27/30\n",
      "363/363 [==============================] - 0s 1ms/step - loss: nan - val_loss: nan\n",
      "Epoch 28/30\n",
      "363/363 [==============================] - 0s 1ms/step - loss: nan - val_loss: nan\n",
      "Epoch 29/30\n",
      "363/363 [==============================] - 0s 1ms/step - loss: nan - val_loss: nan\n",
      "Epoch 30/30\n",
      "363/363 [==============================] - 0s 1ms/step - loss: nan - val_loss: nan\n"
     ]
    }
   ],
   "source": [
    "input = keras.layers.Input(shape=x_train.shape[1:])\n",
    "hidden1 = keras.layers.Dense(30, activation=\"relu\")(input)\n",
    "hidden2 = keras.layers.Dense(30, activation=\"relu\")(hidden1)\n",
    "concat = keras.layers.concatenate([input, hidden2])\n",
    "output = keras.layers.Dense(1)(concat)\n",
    "model2 = keras.models.Model(inputs=[input], outputs=[output])\n",
    "model2.compile(loss=\"mean_squared_error\",optimizer=\"sgd\")\n",
    "print(model2.summary)\n",
    "history=model2.fit(x_train,y_train,epochs=30,validation_data=(x_valid,y_valid))"
   ]
  },
  {
   "cell_type": "code",
   "execution_count": 35,
   "metadata": {},
   "outputs": [
    {
     "name": "stdout",
     "output_type": "stream",
     "text": [
      "162/162 [==============================] - 0s 1ms/step - loss: nan\n",
      "nan\n",
      "WARNING:tensorflow:5 out of the last 7 calls to <function Model.make_predict_function.<locals>.predict_function at 0x7f24301af8b0> triggered tf.function retracing. Tracing is expensive and the excessive number of tracings could be due to (1) creating @tf.function repeatedly in a loop, (2) passing tensors with different shapes, (3) passing Python objects instead of tensors. For (1), please define your @tf.function outside of the loop. For (2), @tf.function has reduce_retracing=True option that can avoid unnecessary retracing. For (3), please refer to https://www.tensorflow.org/guide/function#controlling_retracing and https://www.tensorflow.org/api_docs/python/tf/function for  more details.\n",
      "1/1 [==============================] - 0s 56ms/step\n",
      "[[nan]\n",
      " [nan]\n",
      " [nan]]\n"
     ]
    }
   ],
   "source": [
    "mse_test=model2.evaluate(x_test,y_test)\n",
    "print(mse_test)\n",
    "x_new=x_test[:3]\n",
    "y_pred=model2.predict(x_new)\n",
    "print(y_pred)"
   ]
  },
  {
   "cell_type": "code",
   "execution_count": null,
   "metadata": {},
   "outputs": [],
   "source": []
  },
  {
   "cell_type": "code",
   "execution_count": null,
   "metadata": {},
   "outputs": [],
   "source": []
  }
 ],
 "metadata": {
  "kernelspec": {
   "display_name": "tf",
   "language": "python",
   "name": "python3"
  },
  "language_info": {
   "codemirror_mode": {
    "name": "ipython",
    "version": 3
   },
   "file_extension": ".py",
   "mimetype": "text/x-python",
   "name": "python",
   "nbconvert_exporter": "python",
   "pygments_lexer": "ipython3",
   "version": "3.9.16"
  },
  "orig_nbformat": 4
 },
 "nbformat": 4,
 "nbformat_minor": 2
}
